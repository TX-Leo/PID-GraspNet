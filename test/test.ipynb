{
 "cells": [
  {
   "cell_type": "code",
   "execution_count": 9,
   "metadata": {},
   "outputs": [
    {
     "ename": "SyntaxError",
     "evalue": "invalid syntax (1761963934.py, line 4)",
     "output_type": "error",
     "traceback": [
      "\u001b[1;36m  Cell \u001b[1;32mIn[9], line 4\u001b[1;36m\u001b[0m\n\u001b[1;33m    func((0:3))\u001b[0m\n\u001b[1;37m           ^\u001b[0m\n\u001b[1;31mSyntaxError\u001b[0m\u001b[1;31m:\u001b[0m invalid syntax\n"
     ]
    }
   ],
   "source": [
    "def func(num):\n",
    "    for i in range(num):\n",
    "        print(i)\n",
    "func()"
   ]
  },
  {
   "cell_type": "code",
   "execution_count": 9,
   "metadata": {},
   "outputs": [
    {
     "name": "stdout",
     "output_type": "stream",
     "text": [
      "text_input:\n",
      "h_97. The center point of the grasped grasp is cp0_71 cp1_61. The open point ofthe grasp is op0_61 op1_58.\n",
      "h_real:\n",
      "97\n",
      "cp0_real:\n",
      "71\n",
      "cp1_real:\n",
      "61\n",
      "op0_real:\n",
      "61\n",
      "op1_real:\n",
      "58\n",
      "<class 'str'>\n",
      "real_grasp:\n",
      "['97', '71', '61', '61', '58']\n"
     ]
    }
   ],
   "source": [
    "import re\n",
    "prompt = 'This is a picture of a peach, a cracker box, a banana, a pear, a flat screwdriver, a camel, a head shoulders care, a tape and a dish. peach is to be grasped. The height of the grasp is h_110. The center point of the grasp is cp0_107 cp1_79. The open point of the grasp is op0_115 op1_101.'\n",
    "prompt = \"h_97. The center point of the grasped grasp is cp0_71 cp1_61. The open point ofthe grasp is op0_61 op1_58.\"\n",
    "text_input = prompt.split(' h_')[0]\n",
    "h_real = re.findall(r\"h_(\\d+)\", prompt)[0] if re.findall(r\"h_(\\d+)\", prompt) else None\n",
    "cp0_real = re.findall(r\"cp0_(\\d+)\", prompt)[0] if re.findall(r\"cp0_(\\d+)\", prompt) else None\n",
    "cp1_real = re.findall(r\"cp1_(\\d+)\", prompt)[0] if re.findall(r\"cp1_(\\d+)\", prompt) else None\n",
    "op0_real = re.findall(r\"op0_(\\d+)\", prompt)[0] if re.findall(r\"op0_(\\d+)\", prompt) else None\n",
    "op1_real = re.findall(r\"op1_(\\d+)\", prompt)[0] if re.findall(r\"op1_(\\d+)\", prompt) else None\n",
    "print(f'text_input:\\n{text_input}')\n",
    "print(f'h_real:\\n{h_real}')\n",
    "print(f'cp0_real:\\n{cp0_real}')\n",
    "print(f'cp1_real:\\n{cp1_real}')\n",
    "print(f'op0_real:\\n{op0_real}')\n",
    "print(f'op1_real:\\n{op1_real}')\n",
    "print(type(h_real))\n",
    "real_grasp = [h_real,cp0_real,cp1_real,op0_real,op1_real]\n",
    "print(f'real_grasp:\\n{real_grasp}')"
   ]
  },
  {
   "cell_type": "code",
   "execution_count": 8,
   "metadata": {},
   "outputs": [
    {
     "name": "stdout",
     "output_type": "stream",
     "text": [
      "['1', '2', '3', '4', '2', '4']\n"
     ]
    }
   ],
   "source": [
    "a = ['1','2','3']\n",
    "b = ['4','2','4']\n",
    "c = a+b\n",
    "print(c)\n"
   ]
  },
  {
   "cell_type": "code",
   "execution_count": 10,
   "metadata": {},
   "outputs": [
    {
     "name": "stdout",
     "output_type": "stream",
     "text": [
      "234\n"
     ]
    }
   ],
   "source": [
    "print(int('234'))"
   ]
  },
  {
   "cell_type": "code",
   "execution_count": 3,
   "metadata": {},
   "outputs": [
    {
     "name": "stdout",
     "output_type": "stream",
     "text": [
      "14\n"
     ]
    }
   ],
   "source": [
    "print('{:02d}'.format(14))"
   ]
  },
  {
   "cell_type": "code",
   "execution_count": 3,
   "metadata": {},
   "outputs": [
    {
     "name": "stdout",
     "output_type": "stream",
     "text": [
      "====R:\n",
      "[-107.49832777   -6.43949148 -129.04768187]====\n",
      "====R:\n",
      "(-1.8761997599943365, -0.11239032849426933, -2.2523069407759433)====\n"
     ]
    }
   ],
   "source": [
    "import numpy as np\n",
    "import transforms3d as tfs\n",
    "import cv2\n",
    "import math\n",
    "R = np.array([\n",
    "        [\n",
    "            -0.6259923577308655,\n",
    "            -0.30089691281318665,\n",
    "            0.7194404602050781\n",
    "        ],\n",
    "        [\n",
    "            -0.771722137928009,\n",
    "            0.10634656995534897,\n",
    "            -0.6270051002502441\n",
    "        ],\n",
    "        [\n",
    "            0.11215386539697647,\n",
    "            -0.9477085471153259,\n",
    "            -0.2987809479236603\n",
    "        ]\n",
    "    ])\n",
    "rxryrz = np.degrees(tfs.euler.mat2euler(R, 'sxyz'))\n",
    "print(f'====R:\\n{rxryrz}====')\n",
    "rxryrz = tfs.euler.mat2euler(R, 'sxyz')\n",
    "print(f'====R:\\n{rxryrz}====')"
   ]
  }
 ],
 "metadata": {
  "kernelspec": {
   "display_name": "Python 3",
   "language": "python",
   "name": "python3"
  },
  "language_info": {
   "codemirror_mode": {
    "name": "ipython",
    "version": 3
   },
   "file_extension": ".py",
   "mimetype": "text/x-python",
   "name": "python",
   "nbconvert_exporter": "python",
   "pygments_lexer": "ipython3",
   "version": "3.8.10"
  },
  "orig_nbformat": 4
 },
 "nbformat": 4,
 "nbformat_minor": 2
}
